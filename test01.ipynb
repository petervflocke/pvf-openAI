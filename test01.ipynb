{
 "cells": [
  {
   "cell_type": "code",
   "execution_count": 8,
   "metadata": {},
   "outputs": [
    {
     "name": "stdout",
     "output_type": "stream",
     "text": [
      "[{'role': 'system', 'content': 'system'}, {'role': 'user', 'content': 'user'}]\n"
     ]
    }
   ],
   "source": [
    "conversation = []\n",
    "message = {\n",
    "            \"role\": \"system\",\n",
    "            \"content\": \"system\"\n",
    "}\n",
    "conversation.append(message)\n",
    "message = {\n",
    "            \"role\": \"user\", \n",
    "            \"content\": \"user\"\n",
    "}\n",
    "\n",
    "conversation.append(message)\n",
    "print (conversation)"
   ]
  }
 ],
 "metadata": {
  "kernelspec": {
   "display_name": "Python 3",
   "language": "python",
   "name": "python3"
  },
  "language_info": {
   "codemirror_mode": {
    "name": "ipython",
    "version": 3
   },
   "file_extension": ".py",
   "mimetype": "text/x-python",
   "name": "python",
   "nbconvert_exporter": "python",
   "pygments_lexer": "ipython3",
   "version": "3.10.6"
  },
  "orig_nbformat": 4
 },
 "nbformat": 4,
 "nbformat_minor": 2
}
