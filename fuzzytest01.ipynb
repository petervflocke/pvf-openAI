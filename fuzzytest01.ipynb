{
 "cells": [
  {
   "cell_type": "code",
   "execution_count": 9,
   "metadata": {},
   "outputs": [
    {
     "name": "stdout",
     "output_type": "stream",
     "text": [
      "Number of matchin elements 2 in ['\"Adam\"', '\"Alexa\"']\n",
      "Number of matchin elements 2 in ['\"Adam\"', '\"Alexa\"']\n"
     ]
    }
   ],
   "source": [
    "from fuzzywuzzy import process\n",
    "\n",
    "def compare_lists(entity, search_term, threshold=80):\n",
    "    entity = entity.strip('][').split(', ')  # parsing string into list\n",
    "    search_term = search_term.strip('][').split(', ')  # parsing string into list\n",
    "    matches = []\n",
    "\n",
    "    for term in search_term:\n",
    "        # extractOne returns the match with highest similarity and the similarity score\n",
    "        match, score = process.extractOne(term, entity)\n",
    "\n",
    "        if score >= threshold:\n",
    "            matches.append(match)\n",
    "\n",
    "    return matches\n",
    "\n",
    "entity = '[\"Adam\", \"pies\", \"Alexa\"]'\n",
    "search_term = '[\"pies\", \"Adama\"]'\n",
    "search_term = '[\"Adam\", Alexa]'\n",
    "query_results = compare_lists(entity, search_term)\n",
    "print(f\"Number of matchin elements {len(query_results)} in {query_results}\")\n",
    "cleaned_elements = [elem.replace(\"'\", \"\") for elem in query_results]\n",
    "print(f\"Number of matchin elements {len(cleaned_elements)} in {cleaned_elements}\")\n"
   ]
  }
 ],
 "metadata": {
  "kernelspec": {
   "display_name": "Python 3",
   "language": "python",
   "name": "python3"
  },
  "language_info": {
   "name": "python",
   "version": "3.10.6"
  },
  "orig_nbformat": 4
 },
 "nbformat": 4,
 "nbformat_minor": 2
}
